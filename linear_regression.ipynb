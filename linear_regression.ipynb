{
 "cells": [
  {
   "cell_type": "code",
   "execution_count": 80,
   "metadata": {},
   "outputs": [],
   "source": [
    "import pandas as pd\n",
    "import matplotlib.pyplot as plt\n",
    "import numpy as np"
   ]
  },
  {
   "cell_type": "code",
   "execution_count": 81,
   "metadata": {},
   "outputs": [
    {
     "name": "stdout",
     "output_type": "stream",
     "text": [
      "   YearsExperience   Salary\n",
      "0              1.1  39343.0\n",
      "1              1.3  46205.0\n",
      "2              1.5  37731.0\n",
      "3              2.0  43525.0\n",
      "4              2.2  39891.0 \n",
      "                  YearsExperience    Salary\n",
      "YearsExperience         1.000000  0.978242\n",
      "Salary                  0.978242  1.000000\n"
     ]
    }
   ],
   "source": [
    "df = pd.read_csv(\"data/Salary_Data.csv\")\n",
    "print(df.head(),\"\\n\",df.corr())"
   ]
  },
  {
   "cell_type": "code",
   "execution_count": 82,
   "metadata": {},
   "outputs": [],
   "source": [
    "col1 = df['YearsExperience']\n",
    "col2 = df['Salary']\n"
   ]
  },
  {
   "cell_type": "code",
   "execution_count": 83,
   "metadata": {},
   "outputs": [
    {
     "data": {
      "image/png": "[encoded data removed]",
      "text/plain": [
       "<Figure size 432x288 with 1 Axes>"
      ]
     },
     "metadata": {
      "needs_background": "light"
     },
     "output_type": "display_data"
    }
   ],
   "source": [
    "plt.plot(col1,col2,'ro')\n",
    "plt.show()"
   ]
  },
  {
   "cell_type": "code",
   "execution_count": 84,
   "metadata": {},
   "outputs": [],
   "source": [
    "# eqn of a line is: y = mx + b\n",
    "# we need to minimize the perpendicular distance between the lines and points\n",
    "\n",
    "# values for slope (m), intercept (b), number of data points (n), learning rate (alpha), number of epochs (epoch)\n",
    "m,b,n,alpha,epoch = 0,0,30,0.01,1000\n",
    "\n",
    "def lin_reg(x,y,m,b,n,alpha,epoch):\n",
    "    \n",
    "    for i in range(epoch):\n",
    "        \n",
    "        # J => cost function\n",
    "        J = (1/n)*np.sum((m*x+b*np.ones(n)-y)**2)\n",
    "\n",
    "        # Jm => partial derivate of cost function wrt slope\n",
    "        Jb = (2/n)*np.sum(m*x+b*np.ones(n)-y)\n",
    "\n",
    "        # Jb => partial derivate of cost function wrt intercept\n",
    "        Jm = (2/n)*np.sum((m*x+b*np.ones(n)-y)*x)\n",
    "\n",
    "        # slope and intercept updates\n",
    "        m = m - alpha*Jm\n",
    "        b = b - alpha*Jb\n",
    "\n",
    "    return m,b    "
   ]
  },
  {
   "cell_type": "code",
   "execution_count": 85,
   "metadata": {},
   "outputs": [],
   "source": [
    "m,b = lin_reg(col1,col2,m,b,n,alpha,epoch)\n",
    "yline = m*col1+b"
   ]
  },
  {
   "cell_type": "code",
   "execution_count": 86,
   "metadata": {},
   "outputs": [
    {
     "data": {
      "text/plain": [
       "[<matplotlib.lines.Line2D at 0x23e66ffa040>]"
      ]
     },
     "execution_count": 86,
     "metadata": {},
     "output_type": "execute_result"
    },
    {
     "data": {
      "image/png": "[encoded data removed]",
      "text/plain": [
       "<Figure size 432x288 with 1 Axes>"
      ]
     },
     "metadata": {
      "needs_background": "light"
     },
     "output_type": "display_data"
    }
   ],
   "source": [
    "plt.plot(col1,col2,'ro')\n",
    "plt.plot(col1,yline)"
   ]
  },
  {
   "cell_type": "code",
   "execution_count": 87,
   "metadata": {},
   "outputs": [
    {
     "name": "stdout",
     "output_type": "stream",
     "text": [
      "Slope:  9501.013219578916 \n",
      "Intercept:  25448.181745946968\n"
     ]
    }
   ],
   "source": [
    "print(\"Slope: \",m,\"\\nIntercept: \",b)"
   ]
  },
  {
   "cell_type": "code",
   "execution_count": null,
   "metadata": {},
   "outputs": [],
   "source": [
    "\"\"\"\n",
    "Inferences\n",
    "1) For someone who has just graduated i.e. having 0 years of experience, the salary they can expect is ~ 25,448\n",
    "2) A person with 6-8 years of work experience is likely to see a better rate of growth in their salary as compared to their career as a whole\n",
    "3) From the df.corr() table, we see that there is a 97.8% correlation i.e. a strong positive correlation between \"YearsExperience\" and \"Salary\"\n",
    "   indicating a high likelihood of straight line growth of salary with experience \n",
    "\n",
    "\"\"\"  "
   ]
  }
 ],
 "metadata": {
  "interpreter": {
   "hash": "0eefcaab7344d1ed1e75492af9da665f2fc757d19412388309c9c878f541bae5"
  },
  "kernelspec": {
   "display_name": "Python 3.9.7 64-bit ('base': conda)",
   "language": "python",
   "name": "python3"
  },
  "language_info": {
   "codemirror_mode": {
    "name": "ipython",
    "version": 3
   },
   "file_extension": ".py",
   "mimetype": "text/x-python",
   "name": "python",
   "nbconvert_exporter": "python",
   "pygments_lexer": "ipython3",
   "version": "3.9.7"
  },
  "orig_nbformat": 4
 },
 "nbformat": 4,
 "nbformat_minor": 2
}
